{
 "cells": [
  {
   "cell_type": "markdown",
   "id": "59aa1f74-ca7e-4819-be35-67724758da64",
   "metadata": {},
   "source": [
    "# Index\n",
    "\n",
    "## Generate 2D meshes of various geometries and change the electrode's position.\n",
    "\n",
    "- [Circle](src/circle.ipynb)\n",
    "- [Square](src/square.ipynb)\n",
    "- [Head](src/head.ipynb)\n",
    "- [Tight](src/thigh.ipynb)\n",
    "\n",
    "## Generate 3D meshes\n",
    "\n",
    "- [try_1](src/3d_meshing.ipynb)"
   ]
  },
  {
   "cell_type": "markdown",
   "id": "4340fede-540c-4b1a-9a60-f24be55f15e5",
   "metadata": {},
   "source": [
    "_Contact:_\n",
    "jacob.thoenes@uni-rostock.de"
   ]
  }
 ],
 "metadata": {
  "kernelspec": {
   "display_name": "Python 3 (ipykernel)",
   "language": "python",
   "name": "python3"
  },
  "language_info": {
   "codemirror_mode": {
    "name": "ipython",
    "version": 3
   },
   "file_extension": ".py",
   "mimetype": "text/x-python",
   "name": "python",
   "nbconvert_exporter": "python",
   "pygments_lexer": "ipython3",
   "version": "3.10.12"
  }
 },
 "nbformat": 4,
 "nbformat_minor": 5
}
