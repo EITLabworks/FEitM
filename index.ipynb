{
 "cells": [
  {
   "cell_type": "markdown",
   "id": "59aa1f74-ca7e-4819-be35-67724758da64",
   "metadata": {},
   "source": [
    "# Index\n",
    "\n",
    "## Generate 2D meshes of various geometries and change the electrode's position.\n",
    "\n",
    "- [Circle](src/circle.ipynb)\n",
    "- [Square](src/square.ipynb)\n",
    "- [Head](src/head.ipynb)\n",
    "- [Tight](src/thigh.ipynb)\n",
    "\n",
    "## Meshing\n",
    "\n",
    "- [try_1](src/meshing.ipynb)\n",
    "- [depreciated](src/old_meshing_test.ipynb)\n",
    "\n",
    "## Stuff\n",
    "\n",
    "- [Generate training data](src/gen_train_data.ipynb)\n",
    "- [Data-Driven Method](src/dd_methods.ipynb)"
   ]
  },
  {
   "cell_type": "markdown",
   "id": "4340fede-540c-4b1a-9a60-f24be55f15e5",
   "metadata": {},
   "source": [
    "_Contact:_\n",
    "jacob.thoenes@uni-rostock.de"
   ]
  }
 ],
 "metadata": {
  "kernelspec": {
   "display_name": "Python 3 (ipykernel)",
   "language": "python",
   "name": "python3"
  },
  "language_info": {
   "codemirror_mode": {
    "name": "ipython",
    "version": 3
   },
   "file_extension": ".py",
   "mimetype": "text/x-python",
   "name": "python",
   "nbconvert_exporter": "python",
   "pygments_lexer": "ipython3",
   "version": "3.10.12"
  }
 },
 "nbformat": 4,
 "nbformat_minor": 5
}
